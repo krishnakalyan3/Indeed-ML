{
 "cells": [
  {
   "cell_type": "code",
   "execution_count": 98,
   "metadata": {
    "collapsed": false,
    "deletable": true,
    "editable": true
   },
   "outputs": [],
   "source": [
    "# TODO\n",
    "# Take subset\n",
    "# Build models \n",
    "# Random Search\n",
    "# SVM\n",
    "\n",
    "import numpy as np\n",
    "import codecs\n",
    "import pandas as pd\n",
    "from keras.preprocessing import sequence\n",
    "from keras.models import Sequential\n",
    "from keras.layers import Dense, Dropout, Embedding, LSTM, Bidirectional\n",
    "from sklearn.feature_extraction import DictVectorizer\n",
    "from sklearn.feature_extraction.text import TfidfVectorizer\n",
    "from sklearn.svm import SVC\n",
    "from sklearn.metrics import f1_score, accuracy_score\n",
    "from scipy.stats import itemfreq"
   ]
  },
  {
   "cell_type": "code",
   "execution_count": 66,
   "metadata": {
    "collapsed": false,
    "deletable": true,
    "editable": true
   },
   "outputs": [],
   "source": [
    "filecp = codecs.open('/Users/krishna/MOOC/IndeedML/dataset/train.tsv', encoding = 'latin-1')"
   ]
  },
  {
   "cell_type": "code",
   "execution_count": 67,
   "metadata": {
    "collapsed": false,
    "deletable": true,
    "editable": true
   },
   "outputs": [],
   "source": [
    "data = pd.read_csv('/Users/krishna/MOOC/IndeedML/dataset/train.tsv', sep='\\t')\n",
    "test = pd.read_csv('/Users/krishna/MOOC/IndeedML/dataset/test.tsv', sep='\\t')\n",
    "data = data.dropna()"
   ]
  },
  {
   "cell_type": "code",
   "execution_count": 78,
   "metadata": {
    "collapsed": true
   },
   "outputs": [],
   "source": [
    "data_arry = ['part-time-job',\n",
    "            'full-time-job',\n",
    "            'hourly-wage',\n",
    "            'salary',\n",
    "            'associate-needed',\n",
    "            'bs-degree-needed',\n",
    "            'ms-or-phd-needed',\n",
    "            \"licence-needed\",\n",
    "            '1-year-experience-needed',\n",
    "            '2-4-years-experience-needed',\n",
    "            '5-plus-years-experience-needed',\n",
    "            'supervising-job']"
   ]
  },
  {
   "cell_type": "code",
   "execution_count": 68,
   "metadata": {
    "collapsed": false
   },
   "outputs": [
    {
     "data": {
      "text/html": [
       "<div>\n",
       "<table border=\"1\" class=\"dataframe\">\n",
       "  <thead>\n",
       "    <tr style=\"text-align: right;\">\n",
       "      <th></th>\n",
       "      <th>tags</th>\n",
       "      <th>description</th>\n",
       "    </tr>\n",
       "  </thead>\n",
       "  <tbody>\n",
       "    <tr>\n",
       "      <th>1</th>\n",
       "      <td>2-4-years-experience-needed salary full-time-job</td>\n",
       "      <td>ICR Staffing is now accepting resumes for Indu...</td>\n",
       "    </tr>\n",
       "    <tr>\n",
       "      <th>2</th>\n",
       "      <td>part-time-job</td>\n",
       "      <td>This is a great position for the right person....</td>\n",
       "    </tr>\n",
       "    <tr>\n",
       "      <th>3</th>\n",
       "      <td>licence-needed</td>\n",
       "      <td>A large multi-specialty health center is expan...</td>\n",
       "    </tr>\n",
       "    <tr>\n",
       "      <th>4</th>\n",
       "      <td>5-plus-years-experience-needed full-time-job b...</td>\n",
       "      <td>JOB PURPOSE:    The Account Director is respon...</td>\n",
       "    </tr>\n",
       "    <tr>\n",
       "      <th>5</th>\n",
       "      <td>associate-needed 5-plus-years-experience-needed</td>\n",
       "      <td>At Cottage Health System, our facilities are s...</td>\n",
       "    </tr>\n",
       "    <tr>\n",
       "      <th>6</th>\n",
       "      <td>full-time-job ms-or-phd-needed 5-plus-years-ex...</td>\n",
       "      <td>*E Learning Instructional Designer with at lea...</td>\n",
       "    </tr>\n",
       "    <tr>\n",
       "      <th>7</th>\n",
       "      <td>bs-degree-needed 5-plus-years-experience-needed</td>\n",
       "      <td>Sales and Service Representative    SAF-Hollan...</td>\n",
       "    </tr>\n",
       "    <tr>\n",
       "      <th>8</th>\n",
       "      <td>bs-degree-needed 2-4-years-experience-needed</td>\n",
       "      <td>SAF-Holland, Inc. is currently seeking an Inte...</td>\n",
       "    </tr>\n",
       "    <tr>\n",
       "      <th>9</th>\n",
       "      <td>full-time-job hourly-wage</td>\n",
       "      <td>Immediate opening for full time staffing coord...</td>\n",
       "    </tr>\n",
       "  </tbody>\n",
       "</table>\n",
       "</div>"
      ],
      "text/plain": [
       "                                                tags  \\\n",
       "1   2-4-years-experience-needed salary full-time-job   \n",
       "2                                      part-time-job   \n",
       "3                                     licence-needed   \n",
       "4  5-plus-years-experience-needed full-time-job b...   \n",
       "5    associate-needed 5-plus-years-experience-needed   \n",
       "6  full-time-job ms-or-phd-needed 5-plus-years-ex...   \n",
       "7    bs-degree-needed 5-plus-years-experience-needed   \n",
       "8       bs-degree-needed 2-4-years-experience-needed   \n",
       "9                          full-time-job hourly-wage   \n",
       "\n",
       "                                         description  \n",
       "1  ICR Staffing is now accepting resumes for Indu...  \n",
       "2  This is a great position for the right person....  \n",
       "3  A large multi-specialty health center is expan...  \n",
       "4  JOB PURPOSE:    The Account Director is respon...  \n",
       "5  At Cottage Health System, our facilities are s...  \n",
       "6  *E Learning Instructional Designer with at lea...  \n",
       "7  Sales and Service Representative    SAF-Hollan...  \n",
       "8  SAF-Holland, Inc. is currently seeking an Inte...  \n",
       "9  Immediate opening for full time staffing coord...  "
      ]
     },
     "execution_count": 68,
     "metadata": {},
     "output_type": "execute_result"
    }
   ],
   "source": [
    "data[1:10]"
   ]
  },
  {
   "cell_type": "code",
   "execution_count": 69,
   "metadata": {
    "collapsed": false,
    "deletable": true,
    "editable": true
   },
   "outputs": [],
   "source": [
    "def fix_tags(data):\n",
    "    cat_array = np.zeros([12], dtype=int)\n",
    "    data_arry = ['part-time-job',\n",
    "            'full-time-job',\n",
    "            'hourly-wage',\n",
    "            'salary',\n",
    "            'associate-needed',\n",
    "            'bs-degree-needed',\n",
    "            'ms-or-phd-needed',\n",
    "            \"licence-needed\",\n",
    "            '1-year-experience-needed',\n",
    "            '2-4-years-experience-needed',\n",
    "            '5-plus-years-experience-needed',\n",
    "            'supervising-job']\n",
    "     \n",
    "    split_str = data.split(\" \")\n",
    "    for i in split_str:\n",
    "        index = data_arry.index(i)\n",
    "        cat_array[index] = 1\n",
    "    return cat_array"
   ]
  },
  {
   "cell_type": "code",
   "execution_count": 75,
   "metadata": {
    "collapsed": false,
    "deletable": true,
    "editable": true
   },
   "outputs": [],
   "source": [
    "data['part-time-job'], \\\n",
    "data['full-time-job'], \\\n",
    "data['hourly-wage'],\\\n",
    "data['salary'],\\\n",
    "data['associate-needed'],\\\n",
    "data['bs-degree-needed'], \\\n",
    "data['ms-or-phd-needed'], \\\n",
    "data['licence-needed'], \\\n",
    "data['1-year-experience-needed'], \\\n",
    "data['2-4-years-experience-needed'], \\\n",
    "data['5-plus-years-experience-needed'], \\\n",
    "data['supervising-job']= zip(*data['tags'].map(fix_tags))"
   ]
  },
  {
   "cell_type": "code",
   "execution_count": 89,
   "metadata": {
    "collapsed": false
   },
   "outputs": [
    {
     "data": {
      "text/plain": [
       "(3504, 15)"
      ]
     },
     "execution_count": 89,
     "metadata": {},
     "output_type": "execute_result"
    }
   ],
   "source": [
    "data.shape"
   ]
  },
  {
   "cell_type": "code",
   "execution_count": 76,
   "metadata": {
    "collapsed": false
   },
   "outputs": [],
   "source": [
    "vectorizer = TfidfVectorizer(min_df=5,\n",
    "                             max_df = 1.0,\n",
    "                             sublinear_tf=True,\n",
    "                             use_idf=True)"
   ]
  },
  {
   "cell_type": "code",
   "execution_count": 101,
   "metadata": {
    "collapsed": false
   },
   "outputs": [],
   "source": [
    "train_vectors = vectorizer.fit_transform(data['description'])\n",
    "test_vectors = vectorizer.transform(test['description'])\n",
    "clf = SVC(C=1, kernel='rbf', cache_size=5000,\n",
    "                  verbose=0)"
   ]
  },
  {
   "cell_type": "code",
   "execution_count": 102,
   "metadata": {
    "collapsed": true
   },
   "outputs": [],
   "source": [
    "def eval_models(y_true, y_pred):\n",
    "    acc = accuracy_score(y_true, y_pred)\n",
    "    f1 = f1_score(y_true, y_pred, average=None)\n",
    "    return (acc, f1)"
   ]
  },
  {
   "cell_type": "code",
   "execution_count": 103,
   "metadata": {
    "collapsed": false
   },
   "outputs": [
    {
     "name": "stderr",
     "output_type": "stream",
     "text": [
      "/Library/Frameworks/Python.framework/Versions/3.6/lib/python3.6/site-packages/sklearn/metrics/classification.py:1118: UndefinedMetricWarning: F-score is ill-defined and being set to 0.0 in labels with no predicted samples.\n",
      "  'precision', 'predicted', average, warn_for)\n"
     ]
    },
    {
     "name": "stdout",
     "output_type": "stream",
     "text": [
      "(0.90639269406392697, array([ 0.9508982,  0.       ]))\n",
      "Observed [[   0 3176]\n",
      " [   1  328]]\n",
      "Predict [[   0 3504]]\n",
      "####\n",
      "(0.74743150684931503, array([ 0.85546301,  0.        ]))\n",
      "Observed [[   0 2619]\n",
      " [   1  885]]\n",
      "Predict [[   0 3504]]\n",
      "####\n",
      "(0.87128995433789957, array([ 0.93121855,  0.        ]))\n",
      "Observed [[   0 3053]\n",
      " [   1  451]]\n",
      "Predict [[   0 3504]]\n",
      "####\n",
      "(0.80907534246575341, array([ 0.89446285,  0.        ]))\n",
      "Observed [[   0 2835]\n",
      " [   1  669]]\n",
      "Predict [[   0 3504]]\n",
      "####\n",
      "(0.94035388127853881, array([ 0.96926019,  0.        ]))\n",
      "Observed [[   0 3295]\n",
      " [   1  209]]\n",
      "Predict [[   0 3504]]\n",
      "####\n",
      "(0.72317351598173518, array([ 0.83935078,  0.        ]))\n",
      "Observed [[   0 2534]\n",
      " [   1  970]]\n",
      "Predict [[   0 3504]]\n",
      "####\n",
      "(0.97631278538812782, array([ 0.98801444,  0.        ]))\n",
      "Observed [[   0 3421]\n",
      " [   1   83]]\n",
      "Predict [[   0 3504]]\n",
      "####\n",
      "(0.8504566210045662, array([ 0.91918569,  0.        ]))\n",
      "Observed [[   0 2980]\n",
      " [   1  524]]\n",
      "Predict [[   0 3504]]\n",
      "####\n",
      "(0.90553652968036524, array([ 0.95042684,  0.        ]))\n",
      "Observed [[   0 3173]\n",
      " [   1  331]]\n",
      "Predict [[   0 3504]]\n",
      "####\n",
      "(0.70234018264840181, array([ 0.82514669,  0.        ]))\n",
      "Observed [[   0 2461]\n",
      " [   1 1043]]\n",
      "Predict [[   0 3504]]\n",
      "####\n",
      "(0.81849315068493156, array([ 0.90018832,  0.        ]))\n",
      "Observed [[   0 2868]\n",
      " [   1  636]]\n",
      "Predict [[   0 3504]]\n",
      "####\n",
      "(0.78567351598173518, array([ 0.87997443,  0.        ]))\n",
      "Observed [[   0 2753]\n",
      " [   1  751]]\n",
      "Predict [[   0 3504]]\n",
      "####\n"
     ]
    }
   ],
   "source": [
    "models = []\n",
    "y_hats = np.empty((3504, 12))\n",
    "for k,v in enumerate(data_arry):\n",
    "    target = data[v]\n",
    "    model = clf.fit(train_vectors, target)\n",
    "    models.append(model)\n",
    "    print(eval_models(target, model.predict(train_vectors)))\n",
    "    y_hat = model.predict(train_vectors)\n",
    "    y_hats[:,k] = y_hat\n",
    "    print(\"Observed\", itemfreq(target).astype(int))\n",
    "    print(\"Predict\", itemfreq(y_hat).astype(int))\n",
    "    print(\"####\")"
   ]
  },
  {
   "cell_type": "code",
   "execution_count": 104,
   "metadata": {
    "collapsed": false
   },
   "outputs": [
    {
     "data": {
      "text/plain": [
       "array([[ 0.,  0.,  0., ...,  0.,  0.,  0.],\n",
       "       [ 0.,  0.,  0., ...,  0.,  0.,  0.],\n",
       "       [ 0.,  0.,  0., ...,  0.,  0.,  0.],\n",
       "       ..., \n",
       "       [ 0.,  0.,  0., ...,  0.,  0.,  0.],\n",
       "       [ 0.,  0.,  0., ...,  0.,  0.,  0.],\n",
       "       [ 0.,  0.,  0., ...,  0.,  0.,  0.]])"
      ]
     },
     "execution_count": 104,
     "metadata": {},
     "output_type": "execute_result"
    }
   ],
   "source": [
    "y_hats"
   ]
  },
  {
   "cell_type": "code",
   "execution_count": 108,
   "metadata": {
    "collapsed": false
   },
   "outputs": [
    {
     "ename": "NameError",
     "evalue": "name 'data_array' is not defined",
     "output_type": "error",
     "traceback": [
      "\u001b[0;31m---------------------------------------------------------------------------\u001b[0m",
      "\u001b[0;31mNameError\u001b[0m                                 Traceback (most recent call last)",
      "\u001b[0;32m<ipython-input-108-7f80ecc5ba99>\u001b[0m in \u001b[0;36m<module>\u001b[0;34m()\u001b[0m\n\u001b[1;32m      4\u001b[0m     \u001b[0;32mfor\u001b[0m \u001b[0mk\u001b[0m\u001b[0;34m,\u001b[0m\u001b[0mv\u001b[0m \u001b[0;32min\u001b[0m \u001b[0menumerate\u001b[0m\u001b[0;34m(\u001b[0m\u001b[0mi\u001b[0m\u001b[0;34m)\u001b[0m\u001b[0;34m:\u001b[0m\u001b[0;34m\u001b[0m\u001b[0m\n\u001b[1;32m      5\u001b[0m         \u001b[0;32mif\u001b[0m \u001b[0mv\u001b[0m \u001b[0;34m==\u001b[0m \u001b[0;36m0\u001b[0m\u001b[0;34m:\u001b[0m\u001b[0;34m\u001b[0m\u001b[0m\n\u001b[0;32m----> 6\u001b[0;31m             \u001b[0mlabels\u001b[0m\u001b[0;34m.\u001b[0m\u001b[0mappend\u001b[0m\u001b[0;34m(\u001b[0m\u001b[0mdata_array\u001b[0m\u001b[0;34m[\u001b[0m\u001b[0mk\u001b[0m\u001b[0;34m]\u001b[0m\u001b[0;34m)\u001b[0m\u001b[0;34m\u001b[0m\u001b[0m\n\u001b[0m\u001b[1;32m      7\u001b[0m     \u001b[0mprint\u001b[0m\u001b[0;34m(\u001b[0m\u001b[0mlabels\u001b[0m\u001b[0;34m)\u001b[0m\u001b[0;34m\u001b[0m\u001b[0m\n\u001b[1;32m      8\u001b[0m     \u001b[0;32mbreak\u001b[0m\u001b[0;34m\u001b[0m\u001b[0m\n",
      "\u001b[0;31mNameError\u001b[0m: name 'data_array' is not defined"
     ]
    }
   ],
   "source": [
    "for i in y_hats:\n",
    "    labels = []\n",
    "    for k,v in enumerate(i):\n",
    "        if v == 0:\n",
    "            labels.append(data_array[k])\n",
    "    print(labels)\n",
    "    break"
   ]
  },
  {
   "cell_type": "code",
   "execution_count": null,
   "metadata": {
    "collapsed": true
   },
   "outputs": [],
   "source": []
  }
 ],
 "metadata": {
  "kernelspec": {
   "display_name": "Python 3",
   "language": "python",
   "name": "python3"
  },
  "language_info": {
   "codemirror_mode": {
    "name": "ipython",
    "version": 3
   },
   "file_extension": ".py",
   "mimetype": "text/x-python",
   "name": "python",
   "nbconvert_exporter": "python",
   "pygments_lexer": "ipython3",
   "version": "3.6.0"
  }
 },
 "nbformat": 4,
 "nbformat_minor": 2
}
